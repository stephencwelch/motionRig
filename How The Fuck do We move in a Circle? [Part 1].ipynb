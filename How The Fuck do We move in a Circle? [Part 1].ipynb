{
 "cells": [
  {
   "cell_type": "markdown",
   "metadata": {},
   "source": [
    "# How The Fuck do We move in a Circle? [Part 1]"
   ]
  },
  {
   "cell_type": "code",
   "execution_count": 1,
   "metadata": {
    "collapsed": false
   },
   "outputs": [
    {
     "name": "stdout",
     "output_type": "stream",
     "text": [
      "Populating the interactive namespace from numpy and matplotlib\n"
     ]
    },
    {
     "name": "stderr",
     "output_type": "stream",
     "text": [
      "//anaconda/lib/python2.7/site-packages/matplotlib/font_manager.py:273: UserWarning: Matplotlib is building the font cache using fc-list. This may take a moment.\n",
      "  warnings.warn('Matplotlib is building the font cache using fc-list. This may take a moment.')\n"
     ]
    }
   ],
   "source": [
    "%pylab inline\n",
    "import sys\n",
    "from ipywidgets import interact"
   ]
  },
  {
   "cell_type": "code",
   "execution_count": 2,
   "metadata": {
    "collapsed": false
   },
   "outputs": [],
   "source": [
    "sys.path.append('src')\n",
    "from motorControl import *\n",
    "from trajectoryPlanning import *\n",
    "from util import *\n",
    "\n",
    "## Load Absolute Home, Upper right corner, out of the way, aligned with sharpie marks\n",
    "f = open('savedPositions/absolute/home.p', 'r')\n",
    "home = pickle.load(f)\n",
    "f.close()"
   ]
  },
  {
   "cell_type": "code",
   "execution_count": 3,
   "metadata": {
    "collapsed": false
   },
   "outputs": [
    {
     "data": {
      "text/plain": [
       "1"
      ]
     },
     "execution_count": 3,
     "metadata": {},
     "output_type": "execute_result"
    }
   ],
   "source": [
    "rc = connect(portName = \"/dev/tty.usbserial-A9ETDN3N\")\n",
    "rc.Open()"
   ]
  },
  {
   "cell_type": "markdown",
   "metadata": {},
   "source": [
    "### Initialized Motor Classes\n",
    "\n",
    "- Really important to initialze these first to restore positions from last session!"
   ]
  },
  {
   "cell_type": "code",
   "execution_count": 92,
   "metadata": {
    "collapsed": false
   },
   "outputs": [],
   "source": [
    "#Initialize motor objects for each motor:\n",
    "vL = Motor(address = 0x81, motorNumber = 2, rc = rc, signFlipped = True, \\\n",
    "           motorCounter = 0, kPID = [1e-2, 1.0])\n",
    "vR = Motor(address = 0x81, motorNumber = 1, rc = rc, signFlipped = True, \\\n",
    "           motorCounter = 1, kPID = [1e-2, 1.0])\n",
    "LR = Motor(address = 0x80, motorNumber = 1, rc = rc, signFlipped = True, \n",
    "           motorCounter = 2, kPID = [1e-2, 1.0])\n",
    "FB = Motor(address = 0x80, motorNumber = 2, rc = rc, signFlipped = False, \\\n",
    "           motorCounter = 3, kPID = [1e-2, 1.0])\n",
    "yaw = Motor(address = 0x82, motorNumber = 2, rc = rc, signFlipped = True, \\\n",
    "            motorCounter = 4, kPID = [1e-2, 1.0])\n",
    "pitch = Motor(address = 0x82, motorNumber = 1, rc = rc, signFlipped = True, \\\n",
    "              motorCounter = 5, kPID = [1e-2, 1.0])\n",
    "\n",
    "#Keep in a nice motor list:\n",
    "motors = [vL, vR, LR, FB, yaw, pitch]"
   ]
  },
  {
   "cell_type": "code",
   "execution_count": 93,
   "metadata": {
    "collapsed": false
   },
   "outputs": [
    {
     "data": {
      "text/plain": [
       "[-66949, 66942, 49530, -48628, -98226, -62180]"
      ]
     },
     "execution_count": 93,
     "metadata": {},
     "output_type": "execute_result"
    }
   ],
   "source": [
    "getPositions(motors)"
   ]
  },
  {
   "cell_type": "code",
   "execution_count": 94,
   "metadata": {
    "collapsed": false
   },
   "outputs": [
    {
     "data": {
      "text/plain": [
       "[-1047, -2826, 0, 0, 0, -2]"
      ]
     },
     "execution_count": 94,
     "metadata": {},
     "output_type": "execute_result"
    }
   ],
   "source": [
    "home"
   ]
  },
  {
   "cell_type": "code",
   "execution_count": 136,
   "metadata": {
    "collapsed": false
   },
   "outputs": [
    {
     "data": {
      "text/plain": [
       "<function ipywidgets.widgets.interaction.<lambda>>"
      ]
     },
     "execution_count": 136,
     "metadata": {},
     "output_type": "execute_result"
    }
   ],
   "source": [
    "MC = ManualControl(rc)\n",
    "interact(MC.manualControl, leftUD = (-50, 50), rightUD = (-50, 50), leftRight = (-127, 127), \\\n",
    "         fB = (-127, 127), tilt= (-50, 50), pan = (-50, 50))"
   ]
  },
  {
   "cell_type": "code",
   "execution_count": 134,
   "metadata": {
    "collapsed": false
   },
   "outputs": [
    {
     "data": {
      "text/plain": [
       "[-66949, 66942, -2154, -25825, -66422, -62180]"
      ]
     },
     "execution_count": 134,
     "metadata": {},
     "output_type": "execute_result"
    }
   ],
   "source": [
    "stopAll(rc)\n",
    "savePositions(motors)\n",
    "getPositions(motors)"
   ]
  },
  {
   "cell_type": "markdown",
   "metadata": {},
   "source": [
    "Let's Start by collecting some real data."
   ]
  },
  {
   "cell_type": "code",
   "execution_count": 137,
   "metadata": {
    "collapsed": false
   },
   "outputs": [],
   "source": [
    "# delta = np.array(getPositions(motors))-np.array(home)\n",
    "# f = open('savedPositions/relative/UNCCV1/B.p', 'wb')\n",
    "# pickle.dump(delta, f, protocol=pickle.HIGHEST_PROTOCOL)\n",
    "# f.close()"
   ]
  },
  {
   "cell_type": "code",
   "execution_count": 138,
   "metadata": {
    "collapsed": true
   },
   "outputs": [],
   "source": [
    "#Position A\n",
    "f = open('savedPositions/relative/UNCCV1/A.p', 'r')\n",
    "A = pickle.load(f)+np.array(home) #Return to absolute coords\n",
    "f.close()\n",
    "\n",
    "#Position B\n",
    "f = open('savedPositions/relative/UNCCV1/B.p', 'r')\n",
    "B = pickle.load(f)+np.array(home) #Return to absolute coords\n",
    "f.close()"
   ]
  },
  {
   "cell_type": "code",
   "execution_count": 28,
   "metadata": {
    "collapsed": false
   },
   "outputs": [
    {
     "data": {
      "text/plain": [
       "array([-66949,  66942,  49674, -48630, -97854, -62145])"
      ]
     },
     "execution_count": 28,
     "metadata": {},
     "output_type": "execute_result"
    }
   ],
   "source": [
    "A"
   ]
  },
  {
   "cell_type": "code",
   "execution_count": 29,
   "metadata": {
    "collapsed": false
   },
   "outputs": [
    {
     "data": {
      "text/plain": [
       "array([-66949,  66942,  -2884,  11201, -65758, -62180])"
      ]
     },
     "execution_count": 29,
     "metadata": {},
     "output_type": "execute_result"
    }
   ],
   "source": [
    "B"
   ]
  },
  {
   "cell_type": "markdown",
   "metadata": {},
   "source": [
    "Ok, I accidentally canged tilt, **crap**"
   ]
  },
  {
   "cell_type": "code",
   "execution_count": 31,
   "metadata": {
    "collapsed": false
   },
   "outputs": [
    {
     "data": {
      "text/plain": [
       "array([     0,      0,  52558, -59831, -32096,     35])"
      ]
     },
     "execution_count": 31,
     "metadata": {},
     "output_type": "execute_result"
    }
   ],
   "source": [
    "#motors = [vL, vR, LR, FB, yaw, pitch]\n",
    "A-B"
   ]
  },
  {
   "cell_type": "markdown",
   "metadata": {},
   "source": [
    "Ok, cool. I think I can path plan this! So, the trick, I think is normalizing my x and y values to reach pi over 2 at the endpoint?\n",
    "\n",
    "I guess the angle is really going to \"drive the whole show\" since it varies linearly with time.\n",
    "\n",
    "And I guess really it's a function of time...ok..."
   ]
  },
  {
   "cell_type": "code",
   "execution_count": 34,
   "metadata": {
    "collapsed": false
   },
   "outputs": [
    {
     "data": {
      "text/plain": [
       "-97854"
      ]
     },
     "execution_count": 34,
     "metadata": {},
     "output_type": "execute_result"
    }
   ],
   "source": [
    "A[4]"
   ]
  },
  {
   "cell_type": "code",
   "execution_count": 40,
   "metadata": {
    "collapsed": false
   },
   "outputs": [
    {
     "data": {
      "text/plain": [
       "-65758"
      ]
     },
     "execution_count": 40,
     "metadata": {},
     "output_type": "execute_result"
    }
   ],
   "source": [
    "B[4]"
   ]
  },
  {
   "cell_type": "code",
   "execution_count": 39,
   "metadata": {
    "collapsed": false
   },
   "outputs": [
    {
     "data": {
      "text/plain": [
       "-65758"
      ]
     },
     "execution_count": 39,
     "metadata": {},
     "output_type": "execute_result"
    }
   ],
   "source": []
  },
  {
   "cell_type": "code",
   "execution_count": 87,
   "metadata": {
    "collapsed": false
   },
   "outputs": [
    {
     "data": {
      "image/png": "[encoded data removed]",
      "text/plain": [
       "<matplotlib.figure.Figure at 0x11718b510>"
      ]
     },
     "metadata": {},
     "output_type": "display_data"
    }
   ],
   "source": [
    "#Let's consider a semi circle\n",
    "\n",
    "total_time = 30.0 #seconds\n",
    "ramp_time = 3.0\n",
    "\n",
    "initial_pan = A[4]\n",
    "final_pan = A[4] + 2*(B[4]-A[4])\n",
    "initial_lr = A[2]\n",
    "final_lr = A[2] + 2*(B[2]-A[2])\n",
    "initial_fb = A[3]\n",
    "max_fb = B[3]\n",
    "\n",
    "## Ok, here's a crazy idea, can i use my quadratic trajectory for angle, \n",
    "## and use this to drive the others? That could be cool....\n",
    "\n",
    "panTrajectory = SimpleQuadraticTrajectory(tu = ramp_time, tt = total_time, p1 = initial_pan, p2 = final_pan)\n",
    "\n",
    "# Now I think I need to make my trajectory into angles (in radian of course)\n",
    "for t in range(30):\n",
    "    pan = panTrajectory.compute(t)\n",
    "    current_angle = np.pi*(pan-initial_pan)/(final_pan-initial_pan)\n",
    "\n",
    "    current_lr = (-(final_lr-initial_lr)/2.0)*cos(current_angle) + (final_lr+initial_lr)/2.0\n",
    "    current_fb = ((max_fb-initial_fb)/2.0)*sin(current_angle) + (max_fb+initial_fb)/2.0\n",
    "    scatter(current_lr, current_fb)\n",
    "    \n",
    "axis('equal');"
   ]
  },
  {
   "cell_type": "code",
   "execution_count": 67,
   "metadata": {
    "collapsed": false
   },
   "outputs": [
    {
     "data": {
      "image/png": "[encoded data removed]",
      "text/plain": [
       "<matplotlib.figure.Figure at 0x117122d50>"
      ]
     },
     "metadata": {},
     "output_type": "display_data"
    }
   ],
   "source": [
    "#Let's consider a semi circle\n",
    "\n",
    "total_time = 30.0 #seconds\n",
    "ramp_time = 3.0\n",
    "\n",
    "initial_pan = A[4]\n",
    "final_pan = A[4] + 2*(B[4]-A[4])\n",
    "initial_lr = A[2]\n",
    "final_lr = A[2] + 2*(B[2]-A[2])\n",
    "initial_fb = A[3]\n",
    "max_fb = B[3]\n",
    "\n",
    "## Ok, here's a crazy idea, can i use my quadratic trajectory for angle, \n",
    "## and use this to drive the others? That could be cool....\n",
    "\n",
    "panTrajectory = SimpleQuadraticTrajectory(tu = ramp_time, tt = total_time, p1 = initial_pan, p2 = final_pan)\n",
    "\n",
    "# Now I think I need to make my trajectory into angles (in radian of course)\n",
    "for t in range(30):\n",
    "    pan = panTrajectory.compute(t)\n",
    "    current_angle = np.pi*(pan-initial_pan)/(final_pan-initial_pan)\n",
    "\n",
    "    current_lr = (-(final_lr-initial_lr)/2.0)*cos(current_angle) + (final_lr+initial_lr)/2.0\n",
    "    current_fb = ((max_fb-initial_fb)/2.0)*sin(current_angle) + (max_fb+initial_fb)/2.0\n",
    "    scatter(current_lr, current_fb)\n",
    "    \n",
    "axis('equal');"
   ]
  },
  {
   "cell_type": "code",
   "execution_count": 153,
   "metadata": {
    "collapsed": true
   },
   "outputs": [],
   "source": [
    "#Let's consider a semi circle\n",
    "\n",
    "total_time = 60.0 #seconds\n",
    "ramp_time = 3.0\n",
    "\n",
    "initial_pan = A[4]\n",
    "final_pan = A[4] + 2*(B[4]-A[4])\n",
    "initial_lr = A[2]\n",
    "final_lr = A[2] + 2*(B[2]-A[2])\n",
    "initial_fb = A[3]\n",
    "max_fb = B[3]\n",
    "\n",
    "## Ok, here's a crazy idea, can i use my quadratic trajectory for angle, \n",
    "## and use this to drive the others? That could be cool....\n",
    "\n",
    "panTrajectory = SimpleQuadraticTrajectory(tu = ramp_time, tt = total_time, p1 = initial_pan, p2 = final_pan)\n",
    "\n",
    "motorsToMove = [LR, FB, yaw]"
   ]
  },
  {
   "cell_type": "code",
   "execution_count": 154,
   "metadata": {
    "collapsed": false,
    "scrolled": true
   },
   "outputs": [
    {
     "name": "stdout",
     "output_type": "stream",
     "text": [
      "voltage too low on motor 3\n",
      "excess voltage on motor 3\n",
      "excess voltage on motor 3\n"
     ]
    }
   ],
   "source": [
    "for motor in motorsToMove:\n",
    "    motor.initialize(targetVelocityMin = -10000.0, targetVelocityMax = 10000.0)\n",
    "    motor.clearTracking()\n",
    "    \n",
    "startTime = time.time()\n",
    "timeElapsed = 0.0\n",
    "    \n",
    "while timeElapsed < total_time:\n",
    "    timeElapsed = time.time()-startTime\n",
    "\n",
    "    pan = panTrajectory.compute(timeElapsed + lookAheadTime)\n",
    "    current_angle = np.pi*(pan-initial_pan)/(final_pan-initial_pan)\n",
    "\n",
    "    current_lr = (-(final_lr-initial_lr)/2.0)*cos(current_angle) + (final_lr+initial_lr)/2.0\n",
    "    current_fb = (max_fb-initial_fb)*sin(current_angle) + initial_fb\n",
    "\n",
    "    motorsToMove[0].controlledMove(targetPosition = current_lr, timeToReach = lookAheadTime)\n",
    "    motorsToMove[1].controlledMove(targetPosition = current_fb, timeToReach = lookAheadTime)\n",
    "    motorsToMove[2].controlledMove(targetPosition = pan, timeToReach = lookAheadTime)\n",
    "\n",
    "    \n",
    "stopAll(rc)\n",
    "savePositions(motors)"
   ]
  },
  {
   "cell_type": "code",
   "execution_count": 118,
   "metadata": {
    "collapsed": true
   },
   "outputs": [],
   "source": [
    "stopAll(rc)\n",
    "savePositions(motors)"
   ]
  },
  {
   "cell_type": "code",
   "execution_count": null,
   "metadata": {
    "collapsed": true
   },
   "outputs": [],
   "source": []
  },
  {
   "cell_type": "markdown",
   "metadata": {},
   "source": [
    "Cool!"
   ]
  },
  {
   "cell_type": "markdown",
   "metadata": {},
   "source": [
    "## Move the rig"
   ]
  },
  {
   "cell_type": "code",
   "execution_count": 155,
   "metadata": {
    "collapsed": false
   },
   "outputs": [
    {
     "name": "stdout",
     "output_type": "stream",
     "text": [
      "[     0      0 110901   -390 -64791      0]\n",
      "Planning to move 3 motors.\n"
     ]
    }
   ],
   "source": [
    "targetPositions = A\n",
    "totalTime = 55.0\n",
    "rampTime = 1.0\n",
    "\n",
    "startingPositions = getPositions(motors)\n",
    "lookAheadTime = 1.0\n",
    "tolerance = 100.0 #Anything less than this many ticks we're calling \"Not a move\"\n",
    "\n",
    "motorsToMove = []\n",
    "targetPositionsToMove = []\n",
    "for i, motor in enumerate(motors):\n",
    "    if abs(motor.getPosition()-targetPositions[i]) > tolerance:\n",
    "        motorsToMove.append(motor)\n",
    "        targetPositionsToMove.append(targetPositions[i])\n",
    "        \n",
    "trajectories = []\n",
    "for i, motor in enumerate(motorsToMove):\n",
    "    trajectories.append(SimpleQuadraticTrajectory(tu = rampTime, tt = totalTime, \\\n",
    "                                            p1 = motor.getPosition(), p2 = targetPositionsToMove[i]))\n",
    "    \n",
    "print np.array(targetPositions) - startingPositions\n",
    "print 'Planning to move ' +  str(len(motorsToMove)) + ' motors.'"
   ]
  },
  {
   "cell_type": "code",
   "execution_count": 156,
   "metadata": {
    "collapsed": false,
    "scrolled": true
   },
   "outputs": [
    {
     "name": "stdout",
     "output_type": "stream",
     "text": [
      "voltage too low on motor 4\n",
      "excess voltage on motor 4\n",
      "excess voltage on motor 4\n",
      "excess voltage on motor 2\n",
      "voltage too low on motor 2\n",
      "voltage too low on motor 2\n",
      "[-66949, 66942, 50559, -85112, -97987, -62180] [-66949  66942  51146 -85118 -98328 -62180]\n",
      "[   0    0 -587    6  341    0]\n"
     ]
    }
   ],
   "source": [
    "for motor in motorsToMove:\n",
    "    motor.initialize(targetVelocityMin = -25000.0, targetVelocityMax = 25000.0)\n",
    "    motor.clearTracking()\n",
    "    \n",
    "startTime = time.time()\n",
    "timeElapsed = 0.0\n",
    "    \n",
    "while timeElapsed < totalTime:\n",
    "    timeElapsed = time.time()-startTime\n",
    "    \n",
    "    for i, motor in enumerate(motorsToMove):\n",
    "        lookAheadValue = trajectories[i].compute(timeElapsed + lookAheadTime)\n",
    "        motor.controlledMove(targetPosition = lookAheadValue, timeToReach = lookAheadTime)\n",
    "\n",
    "stopAll(rc)\n",
    "savePositions(motors)\n",
    "print getPositions(motors), targetPositions\n",
    "print getPositions(motors) - np.array(targetPositions)"
   ]
  },
  {
   "cell_type": "code",
   "execution_count": 30,
   "metadata": {
    "collapsed": true
   },
   "outputs": [],
   "source": [
    "stopAll(rc)\n",
    "savePositions(motors)"
   ]
  },
  {
   "cell_type": "code",
   "execution_count": null,
   "metadata": {
    "collapsed": false
   },
   "outputs": [],
   "source": [
    "A"
   ]
  },
  {
   "cell_type": "code",
   "execution_count": null,
   "metadata": {
    "collapsed": false
   },
   "outputs": [],
   "source": [
    "getPositions(motors)"
   ]
  },
  {
   "cell_type": "code",
   "execution_count": null,
   "metadata": {
    "collapsed": true
   },
   "outputs": [],
   "source": []
  },
  {
   "cell_type": "code",
   "execution_count": null,
   "metadata": {
    "collapsed": true
   },
   "outputs": [],
   "source": []
  },
  {
   "cell_type": "code",
   "execution_count": null,
   "metadata": {
    "collapsed": true
   },
   "outputs": [],
   "source": []
  }
 ],
 "metadata": {
  "kernelspec": {
   "display_name": "Python 2",
   "language": "python",
   "name": "python2"
  },
  "language_info": {
   "codemirror_mode": {
    "name": "ipython",
    "version": 2
   },
   "file_extension": ".py",
   "mimetype": "text/x-python",
   "name": "python",
   "nbconvert_exporter": "python",
   "pygments_lexer": "ipython2",
   "version": "2.7.13"
  }
 },
 "nbformat": 4,
 "nbformat_minor": 0
}

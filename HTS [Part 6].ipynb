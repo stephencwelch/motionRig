{
 "cells": [
  {
   "cell_type": "markdown",
   "metadata": {},
   "source": [
    "# HTS [Part 6]\n",
    "\n",
    "- Last Part!"
   ]
  },
  {
   "cell_type": "code",
   "execution_count": 1,
   "metadata": {
    "collapsed": false
   },
   "outputs": [
    {
     "name": "stdout",
     "output_type": "stream",
     "text": [
      "Populating the interactive namespace from numpy and matplotlib\n"
     ]
    },
    {
     "name": "stderr",
     "output_type": "stream",
     "text": [
      "//anaconda/lib/python2.7/site-packages/matplotlib/font_manager.py:273: UserWarning: Matplotlib is building the font cache using fc-list. This may take a moment.\n",
      "  warnings.warn('Matplotlib is building the font cache using fc-list. This may take a moment.')\n"
     ]
    }
   ],
   "source": [
    "%pylab inline\n",
    "import sys\n",
    "from ipywidgets import interact"
   ]
  },
  {
   "cell_type": "code",
   "execution_count": 2,
   "metadata": {
    "collapsed": false
   },
   "outputs": [],
   "source": [
    "sys.path.append('src')\n",
    "from motorControl import *\n",
    "from trajectoryPlanning import *\n",
    "from util import *\n",
    "\n",
    "## Load Absolute Home, Upper right corner, out of the way, aligned with sharpie marks\n",
    "f = open('savedPositions/absolute/home.p', 'r')\n",
    "home = pickle.load(f)\n",
    "f.close()"
   ]
  },
  {
   "cell_type": "code",
   "execution_count": 3,
   "metadata": {
    "collapsed": false
   },
   "outputs": [
    {
     "data": {
      "text/plain": [
       "1"
      ]
     },
     "execution_count": 3,
     "metadata": {},
     "output_type": "execute_result"
    }
   ],
   "source": [
    "rc = connect(portName = \"/dev/tty.usbserial-A9ETDN3N\")\n",
    "rc.Open()"
   ]
  },
  {
   "cell_type": "markdown",
   "metadata": {},
   "source": [
    "### Initialized Motor Classes\n",
    "\n",
    "- Really important to initialze these first to restore positions from last session!"
   ]
  },
  {
   "cell_type": "code",
   "execution_count": 4,
   "metadata": {
    "collapsed": false
   },
   "outputs": [],
   "source": [
    "#Initialize motor objects for each motor:\n",
    "vL = Motor(address = 0x81, motorNumber = 2, rc = rc, signFlipped = True, \\\n",
    "           motorCounter = 0, kPID = [1e-2, 1.0])\n",
    "vR = Motor(address = 0x81, motorNumber = 1, rc = rc, signFlipped = True, \\\n",
    "           motorCounter = 1, kPID = [1e-2, 1.0])\n",
    "LR = Motor(address = 0x80, motorNumber = 1, rc = rc, signFlipped = True, \n",
    "           motorCounter = 2, kPID = [1e-2, 1.0])\n",
    "FB = Motor(address = 0x80, motorNumber = 2, rc = rc, signFlipped = False, \\\n",
    "           motorCounter = 3, kPID = [1e-2, 1.0])\n",
    "yaw = Motor(address = 0x82, motorNumber = 2, rc = rc, signFlipped = True, \\\n",
    "            motorCounter = 4, kPID = [1e-2, 1.0])\n",
    "pitch = Motor(address = 0x82, motorNumber = 1, rc = rc, signFlipped = True, \\\n",
    "              motorCounter = 5, kPID = [1e-2, 1.0])\n",
    "\n",
    "#Keep in a nice motor list:\n",
    "motors = [vL, vR, LR, FB, yaw, pitch]"
   ]
  },
  {
   "cell_type": "code",
   "execution_count": 5,
   "metadata": {
    "collapsed": false
   },
   "outputs": [
    {
     "data": {
      "text/plain": [
       "[-66949, 66942, 50559, -85112, -97987, -62180]"
      ]
     },
     "execution_count": 5,
     "metadata": {},
     "output_type": "execute_result"
    }
   ],
   "source": [
    "getPositions(motors)"
   ]
  },
  {
   "cell_type": "code",
   "execution_count": 6,
   "metadata": {
    "collapsed": false
   },
   "outputs": [
    {
     "data": {
      "text/plain": [
       "[-1047, -2826, 0, 0, 0, -2]"
      ]
     },
     "execution_count": 6,
     "metadata": {},
     "output_type": "execute_result"
    }
   ],
   "source": [
    "home"
   ]
  },
  {
   "cell_type": "code",
   "execution_count": 21,
   "metadata": {
    "collapsed": false
   },
   "outputs": [
    {
     "data": {
      "text/plain": [
       "<function ipywidgets.widgets.interaction.<lambda>>"
      ]
     },
     "execution_count": 21,
     "metadata": {},
     "output_type": "execute_result"
    }
   ],
   "source": [
    "MC = ManualControl(rc)\n",
    "interact(MC.manualControl, leftUD = (-50, 50), rightUD = (-50, 50), leftRight = (-127, 127), \\\n",
    "         fB = (-127, 127), tilt = (-50, 50), pan = (-50, 50))"
   ]
  },
  {
   "cell_type": "code",
   "execution_count": 22,
   "metadata": {
    "collapsed": false
   },
   "outputs": [
    {
     "data": {
      "text/plain": [
       "[-806, -161, 50557, -134357, -131247, -43130]"
      ]
     },
     "execution_count": 22,
     "metadata": {},
     "output_type": "execute_result"
    }
   ],
   "source": [
    "stopAll(rc)\n",
    "savePositions(motors)\n",
    "getPositions(motors)"
   ]
  },
  {
   "cell_type": "code",
   "execution_count": 12,
   "metadata": {
    "collapsed": false
   },
   "outputs": [
    {
     "data": {
      "text/plain": [
       "[-56440, 57491, -4306, -55533, -65488, -89208]"
      ]
     },
     "execution_count": 12,
     "metadata": {},
     "output_type": "execute_result"
    }
   ],
   "source": [
    "stopAll(rc)\n",
    "savePositions(motors)\n",
    "getPositions(motors)"
   ]
  },
  {
   "cell_type": "code",
   "execution_count": 13,
   "metadata": {
    "collapsed": false
   },
   "outputs": [],
   "source": [
    "# levelRig(motors, home, rc, moveTime = 5.0)"
   ]
  },
  {
   "cell_type": "markdown",
   "metadata": {},
   "source": [
    "## Save absolute home\n",
    "\n",
    "- Only needed for hard resets"
   ]
  },
  {
   "cell_type": "code",
   "execution_count": 26,
   "metadata": {
    "collapsed": false
   },
   "outputs": [],
   "source": [
    "# #Upper right corner, out of the way, aligned with sharpie marks\n",
    "# f = open('savedPositions/absolute/home.p', 'wb')\n",
    "# pickle.dump(getPositions(motors), f, protocol=pickle.HIGHEST_PROTOCOL)\n",
    "# f.close()"
   ]
  },
  {
   "cell_type": "markdown",
   "metadata": {},
   "source": [
    "## Save Relative Position"
   ]
  },
  {
   "cell_type": "code",
   "execution_count": 70,
   "metadata": {
    "collapsed": false
   },
   "outputs": [],
   "source": [
    "# delta = np.array(getPositions(motors))-np.array(home)\n",
    "# f = open('savedPositions/relative/HTS6/N.p', 'wb')\n",
    "# pickle.dump(delta, f, protocol=pickle.HIGHEST_PROTOCOL)\n",
    "# f.close()"
   ]
  },
  {
   "cell_type": "markdown",
   "metadata": {},
   "source": [
    "## Load Relative Positions"
   ]
  },
  {
   "cell_type": "code",
   "execution_count": 71,
   "metadata": {
    "collapsed": true
   },
   "outputs": [],
   "source": [
    "#Position J\n",
    "f = open('savedPositions/relative/HTS6/J.p', 'r')\n",
    "J = pickle.load(f)+np.array(home) #Return to absolute coords\n",
    "f.close()\n",
    "\n",
    "#Position K\n",
    "f = open('savedPositions/relative/HTS6/K.p', 'r')\n",
    "K = pickle.load(f)+np.array(home) #Return to absolute coords\n",
    "f.close()\n",
    "\n",
    "#Position M\n",
    "f = open('savedPositions/relative/HTS6/M.p', 'r')\n",
    "M = pickle.load(f)+np.array(home) #Return to absolute coords\n",
    "f.close()\n",
    "\n",
    "#Position N\n",
    "f = open('savedPositions/relative/HTS6/N.p', 'r')\n",
    "N = pickle.load(f)+np.array(home) #Return to absolute coords\n",
    "f.close()"
   ]
  },
  {
   "cell_type": "code",
   "execution_count": 15,
   "metadata": {
    "collapsed": false
   },
   "outputs": [
    {
     "data": {
      "text/plain": [
       "array([-67006,  66986,  -4304,  -5138, -65488, -72221])"
      ]
     },
     "execution_count": 15,
     "metadata": {},
     "output_type": "execute_result"
    }
   ],
   "source": [
    "J"
   ]
  },
  {
   "cell_type": "code",
   "execution_count": 16,
   "metadata": {
    "collapsed": false
   },
   "outputs": [
    {
     "data": {
      "text/plain": [
       "array([-56553,  57593,  -4304, -55436, -65488, -89172])"
      ]
     },
     "execution_count": 16,
     "metadata": {},
     "output_type": "execute_result"
    }
   ],
   "source": [
    "K"
   ]
  },
  {
   "cell_type": "code",
   "execution_count": 13,
   "metadata": {
    "collapsed": false
   },
   "outputs": [
    {
     "data": {
      "text/plain": [
       "[-56580, 57628, -4304, -55277, -65488, -89101]"
      ]
     },
     "execution_count": 13,
     "metadata": {},
     "output_type": "execute_result"
    }
   ],
   "source": [
    "getPositions(motors)"
   ]
  },
  {
   "cell_type": "code",
   "execution_count": 17,
   "metadata": {
    "collapsed": true
   },
   "outputs": [],
   "source": [
    "L = getPositions(motors)\n",
    "L[0] = L[0] + 25000\n",
    "L[1] = L[1] - 25000"
   ]
  },
  {
   "cell_type": "code",
   "execution_count": 18,
   "metadata": {
    "collapsed": false
   },
   "outputs": [
    {
     "data": {
      "text/plain": [
       "[-31440, 32491, -4306, -55533, -65488, -89208]"
      ]
     },
     "execution_count": 18,
     "metadata": {},
     "output_type": "execute_result"
    }
   ],
   "source": [
    "L"
   ]
  },
  {
   "cell_type": "markdown",
   "metadata": {},
   "source": [
    "## Move the rig"
   ]
  },
  {
   "cell_type": "code",
   "execution_count": 116,
   "metadata": {
    "collapsed": false
   },
   "outputs": [
    {
     "name": "stdout",
     "output_type": "stream",
     "text": [
      "[     0      0      0 -60294      0  -8937]\n",
      "Planning to move 2 motors.\n"
     ]
    }
   ],
   "source": [
    "targetPositions = N\n",
    "totalTime = 20.0\n",
    "rampTime = 4.0\n",
    "\n",
    "startingPositions = getPositions(motors)\n",
    "lookAheadTime = 1.0\n",
    "tolerance = 100.0 #Anything less than this many ticks we're calling \"Not a move\"\n",
    "\n",
    "motorsToMove = []\n",
    "targetPositionsToMove = []\n",
    "for i, motor in enumerate(motors):\n",
    "    if abs(motor.getPosition()-targetPositions[i]) > tolerance:\n",
    "        motorsToMove.append(motor)\n",
    "        targetPositionsToMove.append(targetPositions[i])\n",
    "        \n",
    "trajectories = []\n",
    "for i, motor in enumerate(motorsToMove):\n",
    "    trajectories.append(SimpleQuadraticTrajectory(tu = rampTime, tt = totalTime, \\\n",
    "                                            p1 = motor.getPosition(), p2 = targetPositionsToMove[i]))\n",
    "    \n",
    "print np.array(targetPositions) - startingPositions\n",
    "print 'Planning to move ' +  str(len(motorsToMove)) + ' motors.'"
   ]
  },
  {
   "cell_type": "code",
   "execution_count": 117,
   "metadata": {
    "collapsed": false,
    "scrolled": true
   },
   "outputs": [
    {
     "name": "stdout",
     "output_type": "stream",
     "text": [
      "[-66949, 66942, -4306, -48630, -65488, -68558] [-66949  66942  -4306 -49012 -65488 -68631]\n",
      "[  0   0   0 382   0  73]\n"
     ]
    }
   ],
   "source": [
    "for motor in motorsToMove:\n",
    "    motor.initialize(targetVelocityMin = -25000.0, targetVelocityMax = 25000.0)\n",
    "    motor.clearTracking()\n",
    "    \n",
    "startTime = time.time()\n",
    "timeElapsed = 0.0\n",
    "    \n",
    "while timeElapsed < totalTime:\n",
    "    timeElapsed = time.time()-startTime\n",
    "    \n",
    "    for i, motor in enumerate(motorsToMove):\n",
    "        lookAheadValue = trajectories[i].compute(timeElapsed + lookAheadTime)\n",
    "        motor.controlledMove(targetPosition = lookAheadValue, timeToReach = lookAheadTime)\n",
    "\n",
    "stopAll(rc)\n",
    "savePositions(motors)\n",
    "print getPositions(motors), targetPositions\n",
    "print getPositions(motors) - np.array(targetPositions)"
   ]
  },
  {
   "cell_type": "code",
   "execution_count": 30,
   "metadata": {
    "collapsed": true
   },
   "outputs": [],
   "source": [
    "stopAll(rc)\n",
    "savePositions(motors)"
   ]
  },
  {
   "cell_type": "code",
   "execution_count": null,
   "metadata": {
    "collapsed": false
   },
   "outputs": [],
   "source": [
    "A"
   ]
  },
  {
   "cell_type": "code",
   "execution_count": null,
   "metadata": {
    "collapsed": false
   },
   "outputs": [],
   "source": [
    "getPositions(motors)"
   ]
  },
  {
   "cell_type": "code",
   "execution_count": null,
   "metadata": {
    "collapsed": true
   },
   "outputs": [],
   "source": []
  },
  {
   "cell_type": "code",
   "execution_count": null,
   "metadata": {
    "collapsed": true
   },
   "outputs": [],
   "source": []
  },
  {
   "cell_type": "code",
   "execution_count": null,
   "metadata": {
    "collapsed": true
   },
   "outputs": [],
   "source": []
  }
 ],
 "metadata": {
  "kernelspec": {
   "display_name": "Python 2",
   "language": "python",
   "name": "python2"
  },
  "language_info": {
   "codemirror_mode": {
    "name": "ipython",
    "version": 2
   },
   "file_extension": ".py",
   "mimetype": "text/x-python",
   "name": "python",
   "nbconvert_exporter": "python",
   "pygments_lexer": "ipython2",
   "version": "2.7.13"
  }
 },
 "nbformat": 4,
 "nbformat_minor": 0
}
